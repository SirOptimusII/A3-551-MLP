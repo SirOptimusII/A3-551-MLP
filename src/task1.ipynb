{
 "cells": [
  {
   "cell_type": "code",
   "execution_count": 30,
   "id": "5498ba34",
   "metadata": {},
   "outputs": [],
   "source": [
    "from torchvision import datasets\n",
    "import torchvision.transforms as transforms\n",
    "from torch.utils.data import DataLoader"
   ]
  },
  {
   "cell_type": "code",
   "execution_count": 31,
   "id": "17a7584a",
   "metadata": {},
   "outputs": [],
   "source": [
    "### --- GET DATA --- ###\n",
    "NORMALIZE_MU = 0.5\n",
    "NORMALIZE_STD = 0.5\n",
    "\n",
    "# For MLP - flattened input\n",
    "mlp_transform = transforms.Compose([\n",
    "    transforms.ToTensor(),\n",
    "    transforms.Normalize((NORMALIZE_MU,), (NORMALIZE_STD,)),\n",
    "    transforms.Lambda(lambda x: x.view(-1))\n",
    "])\n",
    "\n",
    "\n",
    "# For CNN - keep 2D structure\n",
    "cnn_transform = transforms.Compose([\n",
    "    transforms.ToTensor(),\n",
    "    transforms.Normalize((NORMALIZE_MU,), (NORMALIZE_STD,))\n",
    "])\n",
    "\n",
    "\n",
    "# Load datasets for MLP\n",
    "mlp_train_dataset = datasets.FashionMNIST(root='./data', train=True, download=True, transform=mlp_transform)\n",
    "mlp_test_dataset = datasets.FashionMNIST(root='./data', train=False, download=True, transform=mlp_transform)\n",
    "\n",
    "# Load datasets for CNN\n",
    "cnn_train_dataset = datasets.FashionMNIST(root='./data', train=True, download=True, transform=cnn_transform)\n",
    "cnn_test_dataset = datasets.FashionMNIST(root='./data', train=False, download=True, transform=cnn_transform)\n"
   ]
  },
  {
   "cell_type": "code",
   "execution_count": 32,
   "id": "25d8ca05",
   "metadata": {},
   "outputs": [],
   "source": [
    "### --- CREATE DATALOADERS --- ###\n",
    "BATCH_SIZE = 64\n",
    "\n",
    "# MLP Dataloaders\n",
    "mlp_train_loader = DataLoader(mlp_train_dataset, batch_size=BATCH_SIZE, shuffle=True)\n",
    "mlp_test_loader  = DataLoader(mlp_test_dataset , batch_size=BATCH_SIZE, shuffle=False)\n",
    "\n",
    "# CNN Dataloaders\n",
    "cnn_train_loader = DataLoader(cnn_train_dataset, batch_size=BATCH_SIZE, shuffle=True)\n",
    "cnn_test_loader  = DataLoader(cnn_test_dataset , batch_size=BATCH_SIZE, shuffle=False)\n"
   ]
  },
  {
   "cell_type": "code",
   "execution_count": null,
   "id": "9d4e3062",
   "metadata": {},
   "outputs": [
    {
     "name": "stdout",
     "output_type": "stream",
     "text": [
      "Batch 0: data shape = torch.Size([64, 784]), labels shape = torch.Size([64])\n",
      "tensor([[-1., -1., -1.,  ..., -1., -1., -1.],\n",
      "        [-1., -1., -1.,  ..., -1., -1., -1.],\n",
      "        [-1., -1., -1.,  ..., -1., -1., -1.],\n",
      "        ...,\n",
      "        [-1., -1., -1.,  ..., -1., -1., -1.],\n",
      "        [-1., -1., -1.,  ..., -1., -1., -1.],\n",
      "        [-1., -1., -1.,  ..., -1., -1., -1.]])\n",
      "tensor([5, 8, 3, 1, 9, 0, 0, 8, 8, 5, 7, 8, 3, 2, 0, 1, 5, 0, 8, 6, 0, 1, 6, 2,\n",
      "        1, 3, 9, 9, 7, 3, 9, 3, 9, 8, 3, 3, 7, 6, 4, 1, 6, 3, 9, 2, 5, 6, 6, 9,\n",
      "        3, 1, 1, 6, 8, 9, 5, 0, 8, 0, 9, 4, 7, 0, 9, 3])\n"
     ]
    }
   ],
   "source": [
    "### --- EXAMPLE USAGE --- ###\n",
    "\n",
    "# for batch_idx, (data, labels) in enumerate(mlp_train_loader):\n",
    "#     # data shape for MLP: (batch_size, 784)\n",
    "#     # labels shape: (batch_size,)\n",
    "#     print(f\"Batch {batch_idx}: data shape = {data.shape}, labels shape = {labels.shape}\")\n",
    "#     print(data)\n",
    "#     print(labels)\n",
    "#     break  # Just show first batch\n"
   ]
  }
 ],
 "metadata": {
  "kernelspec": {
   "display_name": ".venv",
   "language": "python",
   "name": "python3"
  },
  "language_info": {
   "codemirror_mode": {
    "name": "ipython",
    "version": 3
   },
   "file_extension": ".py",
   "mimetype": "text/x-python",
   "name": "python",
   "nbconvert_exporter": "python",
   "pygments_lexer": "ipython3",
   "version": "3.13.9"
  }
 },
 "nbformat": 4,
 "nbformat_minor": 5
}
