{
 "cells": [
  {
   "cell_type": "code",
   "execution_count": 1,
   "id": "8b5ebc6d",
   "metadata": {},
   "outputs": [],
   "source": [
    "# Module implemented for Task 2\n",
    "from mlp import MLP"
   ]
  },
  {
   "cell_type": "code",
   "execution_count": 2,
   "id": "f281c82b",
   "metadata": {},
   "outputs": [],
   "source": [
    "def evaluate_acc(y, yh):\n",
    "    \"\"\"\n",
    "    Evaluates the accuracy given true labels and predicted labels.\n",
    "\n",
    "    Args:\n",
    "        y (torch.Tensor): True labels of shape (N,).\n",
    "        yh (torch.Tensor): Predicted labels of shape (N,).\n",
    "\n",
    "    Returns:\n",
    "        float: Accuracy as a float between 0 and 1.\n",
    "    \"\"\"\n",
    "    correct = (y == yh).sum().item()\n",
    "    total = y.size(0)\n",
    "    if total <= 0:\n",
    "        print(\"Warning: No samples to evaluate accuracy. (denominator is zero)\")\n",
    "        return 0.0\n",
    "    return correct / total "
   ]
  }
 ],
 "metadata": {
  "kernelspec": {
   "display_name": ".venv",
   "language": "python",
   "name": "python3"
  },
  "language_info": {
   "codemirror_mode": {
    "name": "ipython",
    "version": 3
   },
   "file_extension": ".py",
   "mimetype": "text/x-python",
   "name": "python",
   "nbconvert_exporter": "python",
   "pygments_lexer": "ipython3",
   "version": "3.13.9"
  }
 },
 "nbformat": 4,
 "nbformat_minor": 5
}
